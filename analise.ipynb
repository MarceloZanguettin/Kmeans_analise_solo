{
 "cells": [
  {
   "cell_type": "markdown",
   "metadata": {},
   "source": [
    "<h1>Analise de dados de um solo</h1>"
   ]
  },
  {
   "cell_type": "code",
   "execution_count": 37,
   "metadata": {},
   "outputs": [],
   "source": [
    "# Importanto as bibliotecas\n",
    "\n",
    "import pandas as pd\n",
    "from sklearn.cluster import KMeans\n",
    "from sklearn.preprocessing import normalize\n",
    "import matplotlib as plt\n",
    "get_ipython().run_line_magic('matplotlib', 'inline')"
   ]
  },
  {
   "cell_type": "code",
   "execution_count": 38,
   "metadata": {},
   "outputs": [
    {
     "data": {
      "text/html": [
       "<div>\n",
       "<style scoped>\n",
       "    .dataframe tbody tr th:only-of-type {\n",
       "        vertical-align: middle;\n",
       "    }\n",
       "\n",
       "    .dataframe tbody tr th {\n",
       "        vertical-align: top;\n",
       "    }\n",
       "\n",
       "    .dataframe thead th {\n",
       "        text-align: right;\n",
       "    }\n",
       "</style>\n",
       "<table border=\"1\" class=\"dataframe\">\n",
       "  <thead>\n",
       "    <tr style=\"text-align: right;\">\n",
       "      <th></th>\n",
       "      <th>DATENT</th>\n",
       "      <th>NOMPRO</th>\n",
       "      <th>ENDPRO</th>\n",
       "      <th>CIDPRO</th>\n",
       "      <th>CEPPRO</th>\n",
       "      <th>CCPPRO</th>\n",
       "      <th>UFPRO</th>\n",
       "      <th>NOMPRI</th>\n",
       "      <th>LOCPRI</th>\n",
       "      <th>UFPRI</th>\n",
       "      <th>...</th>\n",
       "      <th>FB</th>\n",
       "      <th>QT_ARGILA</th>\n",
       "      <th>QT_SILTE</th>\n",
       "      <th>QT_A_TOTAL</th>\n",
       "      <th>QT_A_GROSS</th>\n",
       "      <th>QT_A_FINA</th>\n",
       "      <th>QT_P_MELI</th>\n",
       "      <th>QT_P_REMAN</th>\n",
       "      <th>NOMCUL</th>\n",
       "      <th>NA</th>\n",
       "    </tr>\n",
       "  </thead>\n",
       "  <tbody>\n",
       "    <tr>\n",
       "      <th>0</th>\n",
       "      <td>30/12/2022</td>\n",
       "      <td>ADELSONDESOUZABRITO</td>\n",
       "      <td>RUAMELANIOGARCIABARBOS</td>\n",
       "      <td>BONITO</td>\n",
       "      <td>79.15</td>\n",
       "      <td>0</td>\n",
       "      <td>MS</td>\n",
       "      <td>FAZ.PRIMAVERA</td>\n",
       "      <td>BONITO</td>\n",
       "      <td>MS</td>\n",
       "      <td>...</td>\n",
       "      <td>NaN</td>\n",
       "      <td>NaN</td>\n",
       "      <td>NaN</td>\n",
       "      <td>NaN</td>\n",
       "      <td>NaN</td>\n",
       "      <td>NaN</td>\n",
       "      <td>0</td>\n",
       "      <td>0</td>\n",
       "      <td>S/IDENTIF.</td>\n",
       "      <td>NaN</td>\n",
       "    </tr>\n",
       "    <tr>\n",
       "      <th>1</th>\n",
       "      <td>30/12/2022</td>\n",
       "      <td>ADELSONDESOUZABRITO</td>\n",
       "      <td>RUAMELANIOGARCIABARBOS</td>\n",
       "      <td>BONITO</td>\n",
       "      <td>79.15</td>\n",
       "      <td>0</td>\n",
       "      <td>MS</td>\n",
       "      <td>FAZ.PRIMAVERA</td>\n",
       "      <td>BONITO</td>\n",
       "      <td>MS</td>\n",
       "      <td>...</td>\n",
       "      <td>NaN</td>\n",
       "      <td>NaN</td>\n",
       "      <td>NaN</td>\n",
       "      <td>NaN</td>\n",
       "      <td>NaN</td>\n",
       "      <td>NaN</td>\n",
       "      <td>0</td>\n",
       "      <td>0</td>\n",
       "      <td>S/IDENTIF.</td>\n",
       "      <td>NaN</td>\n",
       "    </tr>\n",
       "    <tr>\n",
       "      <th>2</th>\n",
       "      <td>30/12/2022</td>\n",
       "      <td>ADELSONDESOUZABRITO</td>\n",
       "      <td>RUAMELANIOGARCIABARBOS</td>\n",
       "      <td>BONITO</td>\n",
       "      <td>79.15</td>\n",
       "      <td>0</td>\n",
       "      <td>MS</td>\n",
       "      <td>FAZ.PRIMAVERA</td>\n",
       "      <td>BONITO</td>\n",
       "      <td>MS</td>\n",
       "      <td>...</td>\n",
       "      <td>NaN</td>\n",
       "      <td>NaN</td>\n",
       "      <td>NaN</td>\n",
       "      <td>NaN</td>\n",
       "      <td>NaN</td>\n",
       "      <td>NaN</td>\n",
       "      <td>0</td>\n",
       "      <td>0</td>\n",
       "      <td>S/IDENTIF.</td>\n",
       "      <td>NaN</td>\n",
       "    </tr>\n",
       "    <tr>\n",
       "      <th>3</th>\n",
       "      <td>30/12/2022</td>\n",
       "      <td>ADELSONDESOUZABRITO</td>\n",
       "      <td>RUAMELANIOGARCIABARBOS</td>\n",
       "      <td>BONITO</td>\n",
       "      <td>79.15</td>\n",
       "      <td>0</td>\n",
       "      <td>MS</td>\n",
       "      <td>FAZ.PRIMAVERA</td>\n",
       "      <td>BONITO</td>\n",
       "      <td>MS</td>\n",
       "      <td>...</td>\n",
       "      <td>NaN</td>\n",
       "      <td>NaN</td>\n",
       "      <td>NaN</td>\n",
       "      <td>NaN</td>\n",
       "      <td>NaN</td>\n",
       "      <td>NaN</td>\n",
       "      <td>0</td>\n",
       "      <td>0</td>\n",
       "      <td>S/IDENTIF.</td>\n",
       "      <td>NaN</td>\n",
       "    </tr>\n",
       "    <tr>\n",
       "      <th>4</th>\n",
       "      <td>30/12/2022</td>\n",
       "      <td>ADELSONDESOUZABRITO</td>\n",
       "      <td>RUAMELANIOGARCIABARBOS</td>\n",
       "      <td>BONITO</td>\n",
       "      <td>79.15</td>\n",
       "      <td>0</td>\n",
       "      <td>MS</td>\n",
       "      <td>FAZ.PRIMAVERA</td>\n",
       "      <td>BONITO</td>\n",
       "      <td>MS</td>\n",
       "      <td>...</td>\n",
       "      <td>NaN</td>\n",
       "      <td>NaN</td>\n",
       "      <td>NaN</td>\n",
       "      <td>NaN</td>\n",
       "      <td>NaN</td>\n",
       "      <td>NaN</td>\n",
       "      <td>0</td>\n",
       "      <td>0</td>\n",
       "      <td>S/IDENTIF.</td>\n",
       "      <td>NaN</td>\n",
       "    </tr>\n",
       "  </tbody>\n",
       "</table>\n",
       "<p>5 rows × 56 columns</p>\n",
       "</div>"
      ],
      "text/plain": [
       "       DATENT               NOMPRO                  ENDPRO  CIDPRO  CEPPRO  \\\n",
       "0  30/12/2022  ADELSONDESOUZABRITO  RUAMELANIOGARCIABARBOS  BONITO   79.15   \n",
       "1  30/12/2022  ADELSONDESOUZABRITO  RUAMELANIOGARCIABARBOS  BONITO   79.15   \n",
       "2  30/12/2022  ADELSONDESOUZABRITO  RUAMELANIOGARCIABARBOS  BONITO   79.15   \n",
       "3  30/12/2022  ADELSONDESOUZABRITO  RUAMELANIOGARCIABARBOS  BONITO   79.15   \n",
       "4  30/12/2022  ADELSONDESOUZABRITO  RUAMELANIOGARCIABARBOS  BONITO   79.15   \n",
       "\n",
       "   CCPPRO UFPRO         NOMPRI  LOCPRI UFPRI  ...  FB  QT_ARGILA  QT_SILTE  \\\n",
       "0       0    MS  FAZ.PRIMAVERA  BONITO    MS  ... NaN        NaN       NaN   \n",
       "1       0    MS  FAZ.PRIMAVERA  BONITO    MS  ... NaN        NaN       NaN   \n",
       "2       0    MS  FAZ.PRIMAVERA  BONITO    MS  ... NaN        NaN       NaN   \n",
       "3       0    MS  FAZ.PRIMAVERA  BONITO    MS  ... NaN        NaN       NaN   \n",
       "4       0    MS  FAZ.PRIMAVERA  BONITO    MS  ... NaN        NaN       NaN   \n",
       "\n",
       "  QT_A_TOTAL QT_A_GROSS  QT_A_FINA  QT_P_MELI  QT_P_REMAN      NOMCUL  NA  \n",
       "0        NaN        NaN        NaN          0           0  S/IDENTIF. NaN  \n",
       "1        NaN        NaN        NaN          0           0  S/IDENTIF. NaN  \n",
       "2        NaN        NaN        NaN          0           0  S/IDENTIF. NaN  \n",
       "3        NaN        NaN        NaN          0           0  S/IDENTIF. NaN  \n",
       "4        NaN        NaN        NaN          0           0  S/IDENTIF. NaN  \n",
       "\n",
       "[5 rows x 56 columns]"
      ]
     },
     "execution_count": 38,
     "metadata": {},
     "output_type": "execute_result"
    }
   ],
   "source": [
    "# Importando o dataset\n",
    "\n",
    "solo = pd.read_csv(\"solos.csv\")\n",
    "solo.head()"
   ]
  },
  {
   "cell_type": "code",
   "execution_count": 129,
   "metadata": {},
   "outputs": [
    {
     "data": {
      "text/html": [
       "<div>\n",
       "<style scoped>\n",
       "    .dataframe tbody tr th:only-of-type {\n",
       "        vertical-align: middle;\n",
       "    }\n",
       "\n",
       "    .dataframe tbody tr th {\n",
       "        vertical-align: top;\n",
       "    }\n",
       "\n",
       "    .dataframe thead th {\n",
       "        text-align: right;\n",
       "    }\n",
       "</style>\n",
       "<table border=\"1\" class=\"dataframe\">\n",
       "  <thead>\n",
       "    <tr style=\"text-align: right;\">\n",
       "      <th></th>\n",
       "      <th>PHCACL2</th>\n",
       "      <th>PHH2O</th>\n",
       "      <th>MO</th>\n",
       "      <th>P</th>\n",
       "      <th>K</th>\n",
       "      <th>CA</th>\n",
       "      <th>MG</th>\n",
       "      <th>PHSMP</th>\n",
       "      <th>AL</th>\n",
       "      <th>S</th>\n",
       "      <th>...</th>\n",
       "      <th>FCU</th>\n",
       "      <th>FMN</th>\n",
       "      <th>FB</th>\n",
       "      <th>QT_ARGILA</th>\n",
       "      <th>QT_SILTE</th>\n",
       "      <th>QT_A_TOTAL</th>\n",
       "      <th>QT_A_GROSS</th>\n",
       "      <th>QT_A_FINA</th>\n",
       "      <th>QT_P_MELI</th>\n",
       "      <th>QT_P_REMAN</th>\n",
       "    </tr>\n",
       "  </thead>\n",
       "  <tbody>\n",
       "    <tr>\n",
       "      <th>0</th>\n",
       "      <td>5.0</td>\n",
       "      <td>5.7</td>\n",
       "      <td>28</td>\n",
       "      <td>6</td>\n",
       "      <td>2.9</td>\n",
       "      <td>9</td>\n",
       "      <td>9</td>\n",
       "      <td>34</td>\n",
       "      <td>0</td>\n",
       "      <td>12</td>\n",
       "      <td>...</td>\n",
       "      <td>NaN</td>\n",
       "      <td>NaN</td>\n",
       "      <td>NaN</td>\n",
       "      <td>NaN</td>\n",
       "      <td>NaN</td>\n",
       "      <td>NaN</td>\n",
       "      <td>NaN</td>\n",
       "      <td>NaN</td>\n",
       "      <td>0</td>\n",
       "      <td>0</td>\n",
       "    </tr>\n",
       "    <tr>\n",
       "      <th>1</th>\n",
       "      <td>5.1</td>\n",
       "      <td>5.8</td>\n",
       "      <td>28</td>\n",
       "      <td>4</td>\n",
       "      <td>3.6</td>\n",
       "      <td>11</td>\n",
       "      <td>11</td>\n",
       "      <td>28</td>\n",
       "      <td>0</td>\n",
       "      <td>11</td>\n",
       "      <td>...</td>\n",
       "      <td>NaN</td>\n",
       "      <td>NaN</td>\n",
       "      <td>NaN</td>\n",
       "      <td>NaN</td>\n",
       "      <td>NaN</td>\n",
       "      <td>NaN</td>\n",
       "      <td>NaN</td>\n",
       "      <td>NaN</td>\n",
       "      <td>0</td>\n",
       "      <td>0</td>\n",
       "    </tr>\n",
       "    <tr>\n",
       "      <th>2</th>\n",
       "      <td>5.2</td>\n",
       "      <td>5.9</td>\n",
       "      <td>35</td>\n",
       "      <td>7</td>\n",
       "      <td>5.2</td>\n",
       "      <td>13</td>\n",
       "      <td>11</td>\n",
       "      <td>29</td>\n",
       "      <td>0</td>\n",
       "      <td>19</td>\n",
       "      <td>...</td>\n",
       "      <td>NaN</td>\n",
       "      <td>NaN</td>\n",
       "      <td>NaN</td>\n",
       "      <td>NaN</td>\n",
       "      <td>NaN</td>\n",
       "      <td>NaN</td>\n",
       "      <td>NaN</td>\n",
       "      <td>NaN</td>\n",
       "      <td>0</td>\n",
       "      <td>0</td>\n",
       "    </tr>\n",
       "    <tr>\n",
       "      <th>3</th>\n",
       "      <td>4.8</td>\n",
       "      <td>5.6</td>\n",
       "      <td>17</td>\n",
       "      <td>4</td>\n",
       "      <td>1.9</td>\n",
       "      <td>7</td>\n",
       "      <td>7</td>\n",
       "      <td>28</td>\n",
       "      <td>4</td>\n",
       "      <td>11</td>\n",
       "      <td>...</td>\n",
       "      <td>NaN</td>\n",
       "      <td>NaN</td>\n",
       "      <td>NaN</td>\n",
       "      <td>NaN</td>\n",
       "      <td>NaN</td>\n",
       "      <td>NaN</td>\n",
       "      <td>NaN</td>\n",
       "      <td>NaN</td>\n",
       "      <td>0</td>\n",
       "      <td>0</td>\n",
       "    </tr>\n",
       "    <tr>\n",
       "      <th>4</th>\n",
       "      <td>5.0</td>\n",
       "      <td>5.7</td>\n",
       "      <td>26</td>\n",
       "      <td>5</td>\n",
       "      <td>3.3</td>\n",
       "      <td>9</td>\n",
       "      <td>8</td>\n",
       "      <td>29</td>\n",
       "      <td>0</td>\n",
       "      <td>10</td>\n",
       "      <td>...</td>\n",
       "      <td>NaN</td>\n",
       "      <td>NaN</td>\n",
       "      <td>NaN</td>\n",
       "      <td>NaN</td>\n",
       "      <td>NaN</td>\n",
       "      <td>NaN</td>\n",
       "      <td>NaN</td>\n",
       "      <td>NaN</td>\n",
       "      <td>0</td>\n",
       "      <td>0</td>\n",
       "    </tr>\n",
       "  </tbody>\n",
       "</table>\n",
       "<p>5 rows × 39 columns</p>\n",
       "</div>"
      ],
      "text/plain": [
       "   PHCACL2  PHH2O  MO  P    K  CA  MG  PHSMP  AL   S  ...  FCU  FMN  FB  \\\n",
       "0      5.0    5.7  28  6  2.9   9   9     34   0  12  ...  NaN  NaN NaN   \n",
       "1      5.1    5.8  28  4  3.6  11  11     28   0  11  ...  NaN  NaN NaN   \n",
       "2      5.2    5.9  35  7  5.2  13  11     29   0  19  ...  NaN  NaN NaN   \n",
       "3      4.8    5.6  17  4  1.9   7   7     28   4  11  ...  NaN  NaN NaN   \n",
       "4      5.0    5.7  26  5  3.3   9   8     29   0  10  ...  NaN  NaN NaN   \n",
       "\n",
       "   QT_ARGILA  QT_SILTE  QT_A_TOTAL  QT_A_GROSS  QT_A_FINA  QT_P_MELI  \\\n",
       "0        NaN       NaN         NaN         NaN        NaN          0   \n",
       "1        NaN       NaN         NaN         NaN        NaN          0   \n",
       "2        NaN       NaN         NaN         NaN        NaN          0   \n",
       "3        NaN       NaN         NaN         NaN        NaN          0   \n",
       "4        NaN       NaN         NaN         NaN        NaN          0   \n",
       "\n",
       "   QT_P_REMAN  \n",
       "0           0  \n",
       "1           0  \n",
       "2           0  \n",
       "3           0  \n",
       "4           0  \n",
       "\n",
       "[5 rows x 39 columns]"
      ]
     },
     "execution_count": 129,
     "metadata": {},
     "output_type": "execute_result"
    }
   ],
   "source": [
    "# Retirando dados não necessários para a analise\n",
    "\n",
    "solo_dados = solo.drop(columns=[\"DATENT\", \"NOMPRO\", \"ENDPRO\", \"CIDPRO\", \"CEPPRO\", \"CCPPRO\", \"UFPRO\", \"NOMPRI\", \"LOCPRI\", \"UFPRI\",\"NUMLAB\", \"NUMLOT\", \"NOMCUL\", \"NA\", \"IDEAMO\", \"TIPAMO\", \"QTDANA\"])\n",
    "solo_dados.head()"
   ]
  },
  {
   "cell_type": "code",
   "execution_count": 130,
   "metadata": {},
   "outputs": [],
   "source": [
    "# Preenchendo os dados faltantes (NaN) com o valor 0 (zero)\n",
    "\n",
    "solo_dados = solo_dados.fillna(0, inplace = False)"
   ]
  },
  {
   "cell_type": "code",
   "execution_count": 131,
   "metadata": {},
   "outputs": [
    {
     "data": {
      "text/plain": [
       "array([[ 5. ,  5.7, 28. , ...,  0. ,  0. ,  0. ],\n",
       "       [ 5.1,  5.8, 28. , ...,  0. ,  0. ,  0. ],\n",
       "       [ 5.2,  5.9, 35. , ...,  0. ,  0. ,  0. ],\n",
       "       ...,\n",
       "       [ 4.1,  4.9, 12. , ...,  0. ,  0. ,  0. ],\n",
       "       [ 5.3,  6. , 23. , ...,  0. ,  0. ,  0. ],\n",
       "       [ 5.4,  6.1, 19. , ...,  0. ,  0. ,  0. ]])"
      ]
     },
     "execution_count": 131,
     "metadata": {},
     "output_type": "execute_result"
    }
   ],
   "source": [
    "X = solo_dados.iloc[:,:].values\n",
    "X"
   ]
  },
  {
   "cell_type": "code",
   "execution_count": 132,
   "metadata": {},
   "outputs": [
    {
     "data": {
      "text/plain": [
       "array([[0.05860847, 0.06681366, 0.32820744, ..., 0.        , 0.        ,\n",
       "        0.        ],\n",
       "       [0.05759558, 0.06550086, 0.31621103, ..., 0.        , 0.        ,\n",
       "        0.        ],\n",
       "       [0.05314987, 0.06030466, 0.35773953, ..., 0.        , 0.        ,\n",
       "        0.        ],\n",
       "       ...,\n",
       "       [0.00637854, 0.00762313, 0.0186689 , ..., 0.        , 0.        ,\n",
       "        0.        ],\n",
       "       [0.00808729, 0.00915542, 0.03509579, ..., 0.        , 0.        ,\n",
       "        0.        ],\n",
       "       [0.00827156, 0.0093438 , 0.02910364, ..., 0.        , 0.        ,\n",
       "        0.        ]])"
      ]
     },
     "execution_count": 132,
     "metadata": {},
     "output_type": "execute_result"
    }
   ],
   "source": [
    "Xn = normalize(X)\n",
    "Xn"
   ]
  },
  {
   "cell_type": "code",
   "execution_count": 133,
   "metadata": {},
   "outputs": [],
   "source": [
    "kmeans = KMeans(n_clusters = 3, init = 'random')"
   ]
  },
  {
   "cell_type": "code",
   "execution_count": 134,
   "metadata": {},
   "outputs": [
    {
     "name": "stderr",
     "output_type": "stream",
     "text": [
      "c:\\Users\\mzang\\AppData\\Local\\Programs\\Python\\Python311\\Lib\\site-packages\\sklearn\\cluster\\_kmeans.py:1416: FutureWarning: The default value of `n_init` will change from 10 to 'auto' in 1.4. Set the value of `n_init` explicitly to suppress the warning\n",
      "  super()._check_params_vs_input(X, default_n_init=10)\n"
     ]
    },
    {
     "data": {
      "text/html": [
       "<style>#sk-container-id-3 {color: black;}#sk-container-id-3 pre{padding: 0;}#sk-container-id-3 div.sk-toggleable {background-color: white;}#sk-container-id-3 label.sk-toggleable__label {cursor: pointer;display: block;width: 100%;margin-bottom: 0;padding: 0.3em;box-sizing: border-box;text-align: center;}#sk-container-id-3 label.sk-toggleable__label-arrow:before {content: \"▸\";float: left;margin-right: 0.25em;color: #696969;}#sk-container-id-3 label.sk-toggleable__label-arrow:hover:before {color: black;}#sk-container-id-3 div.sk-estimator:hover label.sk-toggleable__label-arrow:before {color: black;}#sk-container-id-3 div.sk-toggleable__content {max-height: 0;max-width: 0;overflow: hidden;text-align: left;background-color: #f0f8ff;}#sk-container-id-3 div.sk-toggleable__content pre {margin: 0.2em;color: black;border-radius: 0.25em;background-color: #f0f8ff;}#sk-container-id-3 input.sk-toggleable__control:checked~div.sk-toggleable__content {max-height: 200px;max-width: 100%;overflow: auto;}#sk-container-id-3 input.sk-toggleable__control:checked~label.sk-toggleable__label-arrow:before {content: \"▾\";}#sk-container-id-3 div.sk-estimator input.sk-toggleable__control:checked~label.sk-toggleable__label {background-color: #d4ebff;}#sk-container-id-3 div.sk-label input.sk-toggleable__control:checked~label.sk-toggleable__label {background-color: #d4ebff;}#sk-container-id-3 input.sk-hidden--visually {border: 0;clip: rect(1px 1px 1px 1px);clip: rect(1px, 1px, 1px, 1px);height: 1px;margin: -1px;overflow: hidden;padding: 0;position: absolute;width: 1px;}#sk-container-id-3 div.sk-estimator {font-family: monospace;background-color: #f0f8ff;border: 1px dotted black;border-radius: 0.25em;box-sizing: border-box;margin-bottom: 0.5em;}#sk-container-id-3 div.sk-estimator:hover {background-color: #d4ebff;}#sk-container-id-3 div.sk-parallel-item::after {content: \"\";width: 100%;border-bottom: 1px solid gray;flex-grow: 1;}#sk-container-id-3 div.sk-label:hover label.sk-toggleable__label {background-color: #d4ebff;}#sk-container-id-3 div.sk-serial::before {content: \"\";position: absolute;border-left: 1px solid gray;box-sizing: border-box;top: 0;bottom: 0;left: 50%;z-index: 0;}#sk-container-id-3 div.sk-serial {display: flex;flex-direction: column;align-items: center;background-color: white;padding-right: 0.2em;padding-left: 0.2em;position: relative;}#sk-container-id-3 div.sk-item {position: relative;z-index: 1;}#sk-container-id-3 div.sk-parallel {display: flex;align-items: stretch;justify-content: center;background-color: white;position: relative;}#sk-container-id-3 div.sk-item::before, #sk-container-id-3 div.sk-parallel-item::before {content: \"\";position: absolute;border-left: 1px solid gray;box-sizing: border-box;top: 0;bottom: 0;left: 50%;z-index: -1;}#sk-container-id-3 div.sk-parallel-item {display: flex;flex-direction: column;z-index: 1;position: relative;background-color: white;}#sk-container-id-3 div.sk-parallel-item:first-child::after {align-self: flex-end;width: 50%;}#sk-container-id-3 div.sk-parallel-item:last-child::after {align-self: flex-start;width: 50%;}#sk-container-id-3 div.sk-parallel-item:only-child::after {width: 0;}#sk-container-id-3 div.sk-dashed-wrapped {border: 1px dashed gray;margin: 0 0.4em 0.5em 0.4em;box-sizing: border-box;padding-bottom: 0.4em;background-color: white;}#sk-container-id-3 div.sk-label label {font-family: monospace;font-weight: bold;display: inline-block;line-height: 1.2em;}#sk-container-id-3 div.sk-label-container {text-align: center;}#sk-container-id-3 div.sk-container {/* jupyter's `normalize.less` sets `[hidden] { display: none; }` but bootstrap.min.css set `[hidden] { display: none !important; }` so we also need the `!important` here to be able to override the default hidden behavior on the sphinx rendered scikit-learn.org. See: https://github.com/scikit-learn/scikit-learn/issues/21755 */display: inline-block !important;position: relative;}#sk-container-id-3 div.sk-text-repr-fallback {display: none;}</style><div id=\"sk-container-id-3\" class=\"sk-top-container\"><div class=\"sk-text-repr-fallback\"><pre>KMeans(init=&#x27;random&#x27;, n_clusters=3)</pre><b>In a Jupyter environment, please rerun this cell to show the HTML representation or trust the notebook. <br />On GitHub, the HTML representation is unable to render, please try loading this page with nbviewer.org.</b></div><div class=\"sk-container\" hidden><div class=\"sk-item\"><div class=\"sk-estimator sk-toggleable\"><input class=\"sk-toggleable__control sk-hidden--visually\" id=\"sk-estimator-id-3\" type=\"checkbox\" checked><label for=\"sk-estimator-id-3\" class=\"sk-toggleable__label sk-toggleable__label-arrow\">KMeans</label><div class=\"sk-toggleable__content\"><pre>KMeans(init=&#x27;random&#x27;, n_clusters=3)</pre></div></div></div></div></div>"
      ],
      "text/plain": [
       "KMeans(init='random', n_clusters=3)"
      ]
     },
     "execution_count": 134,
     "metadata": {},
     "output_type": "execute_result"
    }
   ],
   "source": [
    "kmeans.fit(Xn)"
   ]
  },
  {
   "cell_type": "code",
   "execution_count": 135,
   "metadata": {},
   "outputs": [
    {
     "data": {
      "text/plain": [
       "array([[ 5.36742341e-02,  6.25236390e-02,  2.24934671e-01,\n",
       "         4.09235394e-02,  2.31946652e-02,  1.16459673e-01,\n",
       "         8.14489875e-02,  4.47493089e-01,  5.90783363e-02,\n",
       "         1.65236299e-01,  2.22002765e-01,  6.69495854e-01,\n",
       "         3.73518715e-01,  1.66616687e-02,  7.08294503e-02,\n",
       "         4.60340428e-02,  0.00000000e+00, -8.67361738e-19,\n",
       "         5.42101086e-19, -2.71050543e-19, -2.03287907e-20,\n",
       "         0.00000000e+00,  0.00000000e+00,  0.00000000e+00,\n",
       "         0.00000000e+00,  0.00000000e+00,  0.00000000e+00,\n",
       "         0.00000000e+00,  0.00000000e+00,  0.00000000e+00,\n",
       "         0.00000000e+00,  0.00000000e+00, -3.46944695e-17,\n",
       "        -4.16333634e-17, -6.93889390e-17,  0.00000000e+00,\n",
       "         0.00000000e+00,  0.00000000e+00,  0.00000000e+00],\n",
       "       [ 3.63264495e-02,  4.12062485e-02,  1.41120451e-01,\n",
       "         2.90399848e-02,  1.95267093e-02,  2.86612832e-01,\n",
       "         1.25144966e-01,  1.74034781e-01,  7.19640775e-03,\n",
       "         6.67439138e-02,  4.31919008e-01,  6.05953789e-01,\n",
       "         4.77935165e-01,  1.68071492e-02,  1.35625880e-01,\n",
       "         5.51367024e-02,  1.04083409e-17, -8.67361738e-19,\n",
       "         5.42101086e-19, -3.25260652e-19, -4.06575815e-20,\n",
       "         0.00000000e+00,  0.00000000e+00,  0.00000000e+00,\n",
       "         0.00000000e+00,  0.00000000e+00,  0.00000000e+00,\n",
       "         0.00000000e+00,  0.00000000e+00,  0.00000000e+00,\n",
       "         0.00000000e+00,  0.00000000e+00, -1.38777878e-17,\n",
       "        -8.32667268e-17, -1.11022302e-16,  0.00000000e+00,\n",
       "         0.00000000e+00,  0.00000000e+00,  0.00000000e+00],\n",
       "       [ 7.43028048e-03,  8.62100239e-03,  3.05458901e-02,\n",
       "         6.34757271e-03,  4.24220631e-03,  4.58546581e-02,\n",
       "         2.31524137e-02,  5.47543199e-02,  8.39468877e-03,\n",
       "         2.81029449e-02,  7.32556164e-02,  1.28009936e-01,\n",
       "         8.50121956e-02,  3.03527396e-03,  1.96320298e-02,\n",
       "         9.34431869e-03,  1.44974926e-01,  2.83060677e-02,\n",
       "         4.12539436e-03,  2.62039059e-03,  3.00547938e-04,\n",
       "         0.00000000e+00,  0.00000000e+00,  0.00000000e+00,\n",
       "         0.00000000e+00,  0.00000000e+00,  0.00000000e+00,\n",
       "         0.00000000e+00,  0.00000000e+00,  0.00000000e+00,\n",
       "         0.00000000e+00,  0.00000000e+00,  2.69523781e-01,\n",
       "         5.98188094e-01,  6.94240763e-01,  0.00000000e+00,\n",
       "         0.00000000e+00,  0.00000000e+00,  0.00000000e+00]])"
      ]
     },
     "execution_count": 135,
     "metadata": {},
     "output_type": "execute_result"
    }
   ],
   "source": [
    "# Verificar centroides ajustados\n",
    "kmeans.cluster_centers_"
   ]
  },
  {
   "cell_type": "code",
   "execution_count": 136,
   "metadata": {},
   "outputs": [
    {
     "data": {
      "text/plain": [
       "array([0, 0, 0, 0, 0, 0, 0, 0, 0, 0, 0, 1, 0, 0, 0, 0, 1, 0, 0, 0, 0, 0,\n",
       "       0, 0, 0, 0, 0, 0, 0, 0, 0, 0, 0, 0, 0, 0, 0, 0, 1, 1, 1, 1, 1, 1,\n",
       "       1, 1, 1, 1, 1, 1, 0, 0, 0, 1, 1, 1, 0, 2, 2, 2, 2, 2, 2, 2, 2, 0,\n",
       "       0, 1, 1, 1, 1, 1, 1, 1, 0, 1, 1, 1, 0, 1, 1, 1, 1, 1, 1, 1, 1, 1,\n",
       "       1, 1, 0, 0, 1, 0, 1, 1, 1, 1, 1, 1, 1, 1, 0, 0, 0, 0, 0, 1, 1, 0,\n",
       "       0, 1, 1, 1, 1, 1, 1, 0, 1, 1, 0, 1, 1, 1, 1, 1, 1, 0, 1, 0, 1, 1,\n",
       "       1, 1, 1, 1, 1, 0, 0, 0, 1, 1, 0, 1, 1, 0, 0, 0, 1, 1, 2, 2, 2, 2,\n",
       "       2, 2, 2, 2, 2, 2, 2, 2, 2])"
      ]
     },
     "execution_count": 136,
     "metadata": {},
     "output_type": "execute_result"
    }
   ],
   "source": [
    "# Aplicar labels de acordo com o centroide mais proximo\n",
    "labels = kmeans.labels_\n",
    "labels"
   ]
  },
  {
   "cell_type": "code",
   "execution_count": 137,
   "metadata": {},
   "outputs": [
    {
     "name": "stderr",
     "output_type": "stream",
     "text": [
      "c:\\Users\\mzang\\AppData\\Local\\Programs\\Python\\Python311\\Lib\\site-packages\\sklearn\\cluster\\_kmeans.py:1416: FutureWarning: The default value of `n_init` will change from 10 to 'auto' in 1.4. Set the value of `n_init` explicitly to suppress the warning\n",
      "  super()._check_params_vs_input(X, default_n_init=10)\n",
      "c:\\Users\\mzang\\AppData\\Local\\Programs\\Python\\Python311\\Lib\\site-packages\\sklearn\\cluster\\_kmeans.py:1416: FutureWarning: The default value of `n_init` will change from 10 to 'auto' in 1.4. Set the value of `n_init` explicitly to suppress the warning\n",
      "  super()._check_params_vs_input(X, default_n_init=10)\n",
      "c:\\Users\\mzang\\AppData\\Local\\Programs\\Python\\Python311\\Lib\\site-packages\\sklearn\\cluster\\_kmeans.py:1416: FutureWarning: The default value of `n_init` will change from 10 to 'auto' in 1.4. Set the value of `n_init` explicitly to suppress the warning\n",
      "  super()._check_params_vs_input(X, default_n_init=10)\n",
      "c:\\Users\\mzang\\AppData\\Local\\Programs\\Python\\Python311\\Lib\\site-packages\\sklearn\\cluster\\_kmeans.py:1416: FutureWarning: The default value of `n_init` will change from 10 to 'auto' in 1.4. Set the value of `n_init` explicitly to suppress the warning\n",
      "  super()._check_params_vs_input(X, default_n_init=10)\n",
      "c:\\Users\\mzang\\AppData\\Local\\Programs\\Python\\Python311\\Lib\\site-packages\\sklearn\\cluster\\_kmeans.py:1416: FutureWarning: The default value of `n_init` will change from 10 to 'auto' in 1.4. Set the value of `n_init` explicitly to suppress the warning\n",
      "  super()._check_params_vs_input(X, default_n_init=10)\n",
      "c:\\Users\\mzang\\AppData\\Local\\Programs\\Python\\Python311\\Lib\\site-packages\\sklearn\\cluster\\_kmeans.py:1416: FutureWarning: The default value of `n_init` will change from 10 to 'auto' in 1.4. Set the value of `n_init` explicitly to suppress the warning\n",
      "  super()._check_params_vs_input(X, default_n_init=10)\n"
     ]
    },
    {
     "name": "stdout",
     "output_type": "stream",
     "text": [
      "1 7868116.586431902\n",
      "2 849769.198402951\n",
      "3 499370.53841904766\n",
      "4 392034.14812908496\n",
      "5 318894.9276026245\n",
      "6 270539.5254674145\n",
      "7 243124.06338055845\n",
      "8 227521.2126447272\n",
      "9 208679.54336825316\n",
      "10 193380.75876500292\n"
     ]
    },
    {
     "name": "stderr",
     "output_type": "stream",
     "text": [
      "c:\\Users\\mzang\\AppData\\Local\\Programs\\Python\\Python311\\Lib\\site-packages\\sklearn\\cluster\\_kmeans.py:1416: FutureWarning: The default value of `n_init` will change from 10 to 'auto' in 1.4. Set the value of `n_init` explicitly to suppress the warning\n",
      "  super()._check_params_vs_input(X, default_n_init=10)\n",
      "c:\\Users\\mzang\\AppData\\Local\\Programs\\Python\\Python311\\Lib\\site-packages\\sklearn\\cluster\\_kmeans.py:1416: FutureWarning: The default value of `n_init` will change from 10 to 'auto' in 1.4. Set the value of `n_init` explicitly to suppress the warning\n",
      "  super()._check_params_vs_input(X, default_n_init=10)\n",
      "c:\\Users\\mzang\\AppData\\Local\\Programs\\Python\\Python311\\Lib\\site-packages\\sklearn\\cluster\\_kmeans.py:1416: FutureWarning: The default value of `n_init` will change from 10 to 'auto' in 1.4. Set the value of `n_init` explicitly to suppress the warning\n",
      "  super()._check_params_vs_input(X, default_n_init=10)\n",
      "c:\\Users\\mzang\\AppData\\Local\\Programs\\Python\\Python311\\Lib\\site-packages\\sklearn\\cluster\\_kmeans.py:1416: FutureWarning: The default value of `n_init` will change from 10 to 'auto' in 1.4. Set the value of `n_init` explicitly to suppress the warning\n",
      "  super()._check_params_vs_input(X, default_n_init=10)\n"
     ]
    },
    {
     "data": {
      "image/png": "[encoded data removed]",
      "text/plain": [
       "<Figure size 640x480 with 1 Axes>"
      ]
     },
     "metadata": {},
     "output_type": "display_data"
    }
   ],
   "source": [
    "# Aplicando o método Elbow\n",
    "wcss = []\n",
    " \n",
    "for i in range(1, 11):\n",
    "    kmeans = KMeans(n_clusters = i, init = 'random')\n",
    "    kmeans.fit(X)\n",
    "    print (i,kmeans.inertia_)\n",
    "    wcss.append(kmeans.inertia_)  \n",
    "plt.pyplot.plot(range(1, 11), wcss)\n",
    "plt.pyplot.title('O Metodo Elbow')\n",
    "plt.pyplot.xlabel('Numero de Clusters')\n",
    "plt.pyplot.ylabel('WSS') #within cluster sum of squares\n",
    "plt.pyplot.show()"
   ]
  },
  {
   "cell_type": "code",
   "execution_count": 139,
   "metadata": {},
   "outputs": [
    {
     "data": {
      "image/png": "[encoded data removed]",
      "text/plain": [
       "<Figure size 640x480 with 1 Axes>"
      ]
     },
     "metadata": {},
     "output_type": "display_data"
    }
   ],
   "source": [
    "# Visualizando os resultados\n",
    "plt.pyplot.scatter(X[:, 4], X[:,5], s = 100, c = kmeans.labels_)\n",
    "plt.pyplot.scatter(kmeans.cluster_centers_[:, 4], kmeans.cluster_centers_[:, 5], s = 50, c = 'red',label = 'Centroids')\n",
    "plt.pyplot.title('Classificação das amostras')\n",
    "plt.pyplot.xlabel('Amostras')\n",
    "plt.pyplot.ylabel('Potassio')\n",
    "plt.pyplot.legend()\n",
    "plt.pyplot.show()"
   ]
  },
  {
   "cell_type": "code",
   "execution_count": 140,
   "metadata": {},
   "outputs": [],
   "source": [
    "kmeans = KMeans(n_clusters = 6, init = 'random')"
   ]
  },
  {
   "cell_type": "code",
   "execution_count": 141,
   "metadata": {},
   "outputs": [
    {
     "name": "stderr",
     "output_type": "stream",
     "text": [
      "c:\\Users\\mzang\\AppData\\Local\\Programs\\Python\\Python311\\Lib\\site-packages\\sklearn\\cluster\\_kmeans.py:1416: FutureWarning: The default value of `n_init` will change from 10 to 'auto' in 1.4. Set the value of `n_init` explicitly to suppress the warning\n",
      "  super()._check_params_vs_input(X, default_n_init=10)\n"
     ]
    },
    {
     "data": {
      "text/html": [
       "<style>#sk-container-id-4 {color: black;}#sk-container-id-4 pre{padding: 0;}#sk-container-id-4 div.sk-toggleable {background-color: white;}#sk-container-id-4 label.sk-toggleable__label {cursor: pointer;display: block;width: 100%;margin-bottom: 0;padding: 0.3em;box-sizing: border-box;text-align: center;}#sk-container-id-4 label.sk-toggleable__label-arrow:before {content: \"▸\";float: left;margin-right: 0.25em;color: #696969;}#sk-container-id-4 label.sk-toggleable__label-arrow:hover:before {color: black;}#sk-container-id-4 div.sk-estimator:hover label.sk-toggleable__label-arrow:before {color: black;}#sk-container-id-4 div.sk-toggleable__content {max-height: 0;max-width: 0;overflow: hidden;text-align: left;background-color: #f0f8ff;}#sk-container-id-4 div.sk-toggleable__content pre {margin: 0.2em;color: black;border-radius: 0.25em;background-color: #f0f8ff;}#sk-container-id-4 input.sk-toggleable__control:checked~div.sk-toggleable__content {max-height: 200px;max-width: 100%;overflow: auto;}#sk-container-id-4 input.sk-toggleable__control:checked~label.sk-toggleable__label-arrow:before {content: \"▾\";}#sk-container-id-4 div.sk-estimator input.sk-toggleable__control:checked~label.sk-toggleable__label {background-color: #d4ebff;}#sk-container-id-4 div.sk-label input.sk-toggleable__control:checked~label.sk-toggleable__label {background-color: #d4ebff;}#sk-container-id-4 input.sk-hidden--visually {border: 0;clip: rect(1px 1px 1px 1px);clip: rect(1px, 1px, 1px, 1px);height: 1px;margin: -1px;overflow: hidden;padding: 0;position: absolute;width: 1px;}#sk-container-id-4 div.sk-estimator {font-family: monospace;background-color: #f0f8ff;border: 1px dotted black;border-radius: 0.25em;box-sizing: border-box;margin-bottom: 0.5em;}#sk-container-id-4 div.sk-estimator:hover {background-color: #d4ebff;}#sk-container-id-4 div.sk-parallel-item::after {content: \"\";width: 100%;border-bottom: 1px solid gray;flex-grow: 1;}#sk-container-id-4 div.sk-label:hover label.sk-toggleable__label {background-color: #d4ebff;}#sk-container-id-4 div.sk-serial::before {content: \"\";position: absolute;border-left: 1px solid gray;box-sizing: border-box;top: 0;bottom: 0;left: 50%;z-index: 0;}#sk-container-id-4 div.sk-serial {display: flex;flex-direction: column;align-items: center;background-color: white;padding-right: 0.2em;padding-left: 0.2em;position: relative;}#sk-container-id-4 div.sk-item {position: relative;z-index: 1;}#sk-container-id-4 div.sk-parallel {display: flex;align-items: stretch;justify-content: center;background-color: white;position: relative;}#sk-container-id-4 div.sk-item::before, #sk-container-id-4 div.sk-parallel-item::before {content: \"\";position: absolute;border-left: 1px solid gray;box-sizing: border-box;top: 0;bottom: 0;left: 50%;z-index: -1;}#sk-container-id-4 div.sk-parallel-item {display: flex;flex-direction: column;z-index: 1;position: relative;background-color: white;}#sk-container-id-4 div.sk-parallel-item:first-child::after {align-self: flex-end;width: 50%;}#sk-container-id-4 div.sk-parallel-item:last-child::after {align-self: flex-start;width: 50%;}#sk-container-id-4 div.sk-parallel-item:only-child::after {width: 0;}#sk-container-id-4 div.sk-dashed-wrapped {border: 1px dashed gray;margin: 0 0.4em 0.5em 0.4em;box-sizing: border-box;padding-bottom: 0.4em;background-color: white;}#sk-container-id-4 div.sk-label label {font-family: monospace;font-weight: bold;display: inline-block;line-height: 1.2em;}#sk-container-id-4 div.sk-label-container {text-align: center;}#sk-container-id-4 div.sk-container {/* jupyter's `normalize.less` sets `[hidden] { display: none; }` but bootstrap.min.css set `[hidden] { display: none !important; }` so we also need the `!important` here to be able to override the default hidden behavior on the sphinx rendered scikit-learn.org. See: https://github.com/scikit-learn/scikit-learn/issues/21755 */display: inline-block !important;position: relative;}#sk-container-id-4 div.sk-text-repr-fallback {display: none;}</style><div id=\"sk-container-id-4\" class=\"sk-top-container\"><div class=\"sk-text-repr-fallback\"><pre>KMeans(init=&#x27;random&#x27;, n_clusters=6)</pre><b>In a Jupyter environment, please rerun this cell to show the HTML representation or trust the notebook. <br />On GitHub, the HTML representation is unable to render, please try loading this page with nbviewer.org.</b></div><div class=\"sk-container\" hidden><div class=\"sk-item\"><div class=\"sk-estimator sk-toggleable\"><input class=\"sk-toggleable__control sk-hidden--visually\" id=\"sk-estimator-id-4\" type=\"checkbox\" checked><label for=\"sk-estimator-id-4\" class=\"sk-toggleable__label sk-toggleable__label-arrow\">KMeans</label><div class=\"sk-toggleable__content\"><pre>KMeans(init=&#x27;random&#x27;, n_clusters=6)</pre></div></div></div></div></div>"
      ],
      "text/plain": [
       "KMeans(init='random', n_clusters=6)"
      ]
     },
     "execution_count": 141,
     "metadata": {},
     "output_type": "execute_result"
    }
   ],
   "source": [
    "kmeans.fit(Xn)"
   ]
  },
  {
   "cell_type": "code",
   "execution_count": 142,
   "metadata": {},
   "outputs": [
    {
     "data": {
      "text/plain": [
       "array([[ 5.19438548e-02,  6.10380744e-02,  2.15122481e-01,\n",
       "         4.31954966e-02,  2.24319003e-02,  7.58373301e-02,\n",
       "         6.26236611e-02,  5.33743587e-01,  8.78660013e-02,\n",
       "         1.93105245e-01,  1.60704656e-01,  6.94448244e-01,\n",
       "         2.59365168e-01,  1.39919932e-02,  4.41512351e-02,\n",
       "         3.53766377e-02,  6.93889390e-18, -4.33680869e-19,\n",
       "         3.25260652e-19, -1.62630326e-19, -1.35525272e-20,\n",
       "         0.00000000e+00,  0.00000000e+00,  0.00000000e+00,\n",
       "         0.00000000e+00,  0.00000000e+00,  0.00000000e+00,\n",
       "         0.00000000e+00,  0.00000000e+00,  0.00000000e+00,\n",
       "         0.00000000e+00,  0.00000000e+00,  6.93889390e-18,\n",
       "        -4.16333634e-17,  4.16333634e-17,  0.00000000e+00,\n",
       "         0.00000000e+00,  0.00000000e+00,  0.00000000e+00],\n",
       "       [ 4.43056154e-02,  5.05270167e-02,  1.72812610e-01,\n",
       "         2.89735048e-02,  2.56530787e-02,  2.28911920e-01,\n",
       "         1.27931182e-01,  2.09405141e-01,  9.27776532e-03,\n",
       "         7.26704670e-02,  3.83468278e-01,  5.92873419e-01,\n",
       "         5.58797273e-01,  1.71657999e-02,  1.05677761e-01,\n",
       "         5.10393849e-02,  3.46944695e-18, -8.67361738e-19,\n",
       "         3.25260652e-19, -2.16840434e-19, -6.77626358e-21,\n",
       "         0.00000000e+00,  0.00000000e+00,  0.00000000e+00,\n",
       "         0.00000000e+00,  0.00000000e+00,  0.00000000e+00,\n",
       "         0.00000000e+00,  0.00000000e+00,  0.00000000e+00,\n",
       "         0.00000000e+00,  0.00000000e+00,  0.00000000e+00,\n",
       "        -2.77555756e-17,  5.55111512e-17,  0.00000000e+00,\n",
       "         0.00000000e+00,  0.00000000e+00,  0.00000000e+00],\n",
       "       [ 7.43028048e-03,  8.62100239e-03,  3.05458901e-02,\n",
       "         6.34757271e-03,  4.24220631e-03,  4.58546581e-02,\n",
       "         2.31524137e-02,  5.47543199e-02,  8.39468877e-03,\n",
       "         2.81029449e-02,  7.32556164e-02,  1.28009936e-01,\n",
       "         8.50121956e-02,  3.03527396e-03,  1.96320298e-02,\n",
       "         9.34431869e-03,  1.44974926e-01,  2.83060677e-02,\n",
       "         4.12539436e-03,  2.62039059e-03,  3.00547938e-04,\n",
       "         0.00000000e+00,  0.00000000e+00,  0.00000000e+00,\n",
       "         0.00000000e+00,  0.00000000e+00,  0.00000000e+00,\n",
       "         0.00000000e+00,  0.00000000e+00,  0.00000000e+00,\n",
       "         0.00000000e+00,  0.00000000e+00,  2.69523781e-01,\n",
       "         5.98188094e-01,  6.94240763e-01,  0.00000000e+00,\n",
       "         0.00000000e+00,  0.00000000e+00,  0.00000000e+00],\n",
       "       [ 4.27819635e-02,  4.98316695e-02,  1.59137185e-01,\n",
       "         2.50615351e-02,  2.03551777e-02,  1.83356961e-01,\n",
       "         1.06299039e-01,  3.79851276e-01,  5.13608549e-02,\n",
       "         1.01692178e-01,  3.10847306e-01,  6.90698581e-01,\n",
       "         4.01440707e-01,  1.62472205e-02,  9.69330701e-02,\n",
       "         5.35999539e-02,  3.46944695e-18, -8.67361738e-19,\n",
       "         2.16840434e-19, -2.16840434e-19, -1.35525272e-20,\n",
       "         0.00000000e+00,  0.00000000e+00,  0.00000000e+00,\n",
       "         0.00000000e+00,  0.00000000e+00,  0.00000000e+00,\n",
       "         0.00000000e+00,  0.00000000e+00,  0.00000000e+00,\n",
       "         0.00000000e+00,  0.00000000e+00,  0.00000000e+00,\n",
       "        -4.16333634e-17,  4.16333634e-17,  0.00000000e+00,\n",
       "         0.00000000e+00,  0.00000000e+00,  0.00000000e+00],\n",
       "       [ 5.99627609e-02,  6.92301638e-02,  2.70567818e-01,\n",
       "         4.69465298e-02,  2.47984838e-02,  1.27580741e-01,\n",
       "         8.92080320e-02,  3.88624029e-01,  2.93092031e-02,\n",
       "         1.69023641e-01,  2.43439012e-01,  6.32063041e-01,\n",
       "         4.66534799e-01,  1.89458070e-02,  8.87228915e-02,\n",
       "         5.45375065e-02,  6.93889390e-18, -4.33680869e-19,\n",
       "         3.25260652e-19, -1.62630326e-19, -1.35525272e-20,\n",
       "         0.00000000e+00,  0.00000000e+00,  0.00000000e+00,\n",
       "         0.00000000e+00,  0.00000000e+00,  0.00000000e+00,\n",
       "         0.00000000e+00,  0.00000000e+00,  0.00000000e+00,\n",
       "         0.00000000e+00,  0.00000000e+00,  6.93889390e-18,\n",
       "        -4.16333634e-17,  5.55111512e-17,  0.00000000e+00,\n",
       "         0.00000000e+00,  0.00000000e+00,  0.00000000e+00],\n",
       "       [ 2.94857208e-02,  3.30944162e-02,  1.11111828e-01,\n",
       "         3.00333781e-02,  1.50225363e-02,  3.45463593e-01,\n",
       "         1.24160194e-01,  1.16567994e-01,  2.20028148e-03,\n",
       "         5.80547361e-02,  4.85012544e-01,  6.01580538e-01,\n",
       "         4.27254020e-01,  1.68564483e-02,  1.61258948e-01,\n",
       "         5.65591372e-02, -6.93889390e-18, -4.33680869e-19,\n",
       "         4.33680869e-19, -2.16840434e-19,  1.35525272e-20,\n",
       "         0.00000000e+00,  0.00000000e+00,  0.00000000e+00,\n",
       "         0.00000000e+00,  0.00000000e+00,  0.00000000e+00,\n",
       "         0.00000000e+00,  0.00000000e+00,  0.00000000e+00,\n",
       "         0.00000000e+00,  0.00000000e+00, -2.08166817e-17,\n",
       "         1.38777878e-17,  6.93889390e-17,  0.00000000e+00,\n",
       "         0.00000000e+00,  0.00000000e+00,  0.00000000e+00]])"
      ]
     },
     "execution_count": 142,
     "metadata": {},
     "output_type": "execute_result"
    }
   ],
   "source": [
    "# Verificar centroides ajustados\n",
    "kmeans.cluster_centers_"
   ]
  },
  {
   "cell_type": "code",
   "execution_count": 143,
   "metadata": {},
   "outputs": [
    {
     "data": {
      "text/plain": [
       "array([4, 4, 4, 4, 4, 0, 0, 0, 0, 0, 4, 1, 4, 0, 4, 4, 3, 4, 4, 4, 4, 0,\n",
       "       0, 0, 4, 0, 4, 0, 0, 4, 4, 4, 4, 0, 4, 0, 0, 3, 3, 1, 5, 5, 1, 5,\n",
       "       5, 5, 5, 5, 5, 1, 3, 3, 0, 3, 5, 3, 4, 2, 2, 2, 2, 2, 2, 2, 2, 4,\n",
       "       3, 5, 5, 1, 1, 3, 1, 1, 0, 1, 1, 1, 4, 1, 5, 5, 5, 5, 3, 5, 1, 3,\n",
       "       1, 1, 3, 0, 1, 3, 5, 5, 5, 5, 5, 5, 5, 5, 3, 3, 3, 3, 0, 1, 1, 0,\n",
       "       3, 5, 5, 5, 5, 5, 1, 3, 1, 1, 0, 5, 5, 5, 5, 1, 5, 4, 1, 3, 5, 1,\n",
       "       1, 5, 1, 1, 1, 4, 0, 4, 5, 3, 3, 1, 5, 0, 0, 4, 5, 1, 2, 2, 2, 2,\n",
       "       2, 2, 2, 2, 2, 2, 2, 2, 2])"
      ]
     },
     "execution_count": 143,
     "metadata": {},
     "output_type": "execute_result"
    }
   ],
   "source": [
    "# Aplicar labels de acordo com o centroide mais proximo\n",
    "labels = kmeans.labels_\n",
    "labels"
   ]
  },
  {
   "cell_type": "code",
   "execution_count": 149,
   "metadata": {},
   "outputs": [
    {
     "data": {
      "image/png": "[encoded data removed]",
      "text/plain": [
       "<Figure size 640x480 with 1 Axes>"
      ]
     },
     "metadata": {},
     "output_type": "display_data"
    }
   ],
   "source": [
    "# Visualizando os resultados\n",
    "plt.pyplot.scatter(Xn[:, 4], Xn[:,5], s = 100, c = kmeans.labels_)\n",
    "plt.pyplot.scatter(kmeans.cluster_centers_[:, 4], kmeans.cluster_centers_[:, 5], s = 50, c = 'red',label = 'Centroids')\n",
    "plt.pyplot.title('Classificação das amostras')\n",
    "plt.pyplot.xlabel('K')\n",
    "plt.pyplot.ylabel('CA')\n",
    "plt.pyplot.legend()\n",
    "plt.pyplot.show()"
   ]
  },
  {
   "cell_type": "code",
   "execution_count": 147,
   "metadata": {},
   "outputs": [
    {
     "data": {
      "text/plain": [
       "Index(['PHCACL2', 'PHH2O', 'MO', 'P', 'K', 'CA', 'MG', 'PHSMP', 'AL', 'S',\n",
       "       'SB', 'CTC', 'V', 'CAMG', 'CAK', 'MGK', 'FE', 'MN', 'ZN', 'CU', 'B',\n",
       "       'FN', 'FP', 'FK', 'FCA', 'FMG', 'FS', 'FFE', 'FZN', 'FCU', 'FMN', 'FB',\n",
       "       'QT_ARGILA', 'QT_SILTE', 'QT_A_TOTAL', 'QT_A_GROSS', 'QT_A_FINA',\n",
       "       'QT_P_MELI', 'QT_P_REMAN'],\n",
       "      dtype='object')"
      ]
     },
     "execution_count": 147,
     "metadata": {},
     "output_type": "execute_result"
    }
   ],
   "source": [
    "solo_dados.columns"
   ]
  },
  {
   "cell_type": "code",
   "execution_count": 148,
   "metadata": {},
   "outputs": [
    {
     "data": {
      "text/html": [
       "<div>\n",
       "<style scoped>\n",
       "    .dataframe tbody tr th:only-of-type {\n",
       "        vertical-align: middle;\n",
       "    }\n",
       "\n",
       "    .dataframe tbody tr th {\n",
       "        vertical-align: top;\n",
       "    }\n",
       "\n",
       "    .dataframe thead th {\n",
       "        text-align: right;\n",
       "    }\n",
       "</style>\n",
       "<table border=\"1\" class=\"dataframe\">\n",
       "  <thead>\n",
       "    <tr style=\"text-align: right;\">\n",
       "      <th></th>\n",
       "      <th>PHCACL2</th>\n",
       "      <th>PHH2O</th>\n",
       "      <th>MO</th>\n",
       "      <th>P</th>\n",
       "      <th>K</th>\n",
       "      <th>CA</th>\n",
       "      <th>MG</th>\n",
       "      <th>PHSMP</th>\n",
       "      <th>AL</th>\n",
       "      <th>S</th>\n",
       "      <th>...</th>\n",
       "      <th>FCU</th>\n",
       "      <th>FMN</th>\n",
       "      <th>FB</th>\n",
       "      <th>QT_ARGILA</th>\n",
       "      <th>QT_SILTE</th>\n",
       "      <th>QT_A_TOTAL</th>\n",
       "      <th>QT_A_GROSS</th>\n",
       "      <th>QT_A_FINA</th>\n",
       "      <th>QT_P_MELI</th>\n",
       "      <th>QT_P_REMAN</th>\n",
       "    </tr>\n",
       "  </thead>\n",
       "  <tbody>\n",
       "    <tr>\n",
       "      <th>0</th>\n",
       "      <td>5.0</td>\n",
       "      <td>5.7</td>\n",
       "      <td>28</td>\n",
       "      <td>6</td>\n",
       "      <td>2.9</td>\n",
       "      <td>9</td>\n",
       "      <td>9</td>\n",
       "      <td>34</td>\n",
       "      <td>0</td>\n",
       "      <td>12</td>\n",
       "      <td>...</td>\n",
       "      <td>0.0</td>\n",
       "      <td>0.0</td>\n",
       "      <td>0.0</td>\n",
       "      <td>0.0</td>\n",
       "      <td>0.0</td>\n",
       "      <td>0.0</td>\n",
       "      <td>0.0</td>\n",
       "      <td>0.0</td>\n",
       "      <td>0</td>\n",
       "      <td>0</td>\n",
       "    </tr>\n",
       "    <tr>\n",
       "      <th>1</th>\n",
       "      <td>5.1</td>\n",
       "      <td>5.8</td>\n",
       "      <td>28</td>\n",
       "      <td>4</td>\n",
       "      <td>3.6</td>\n",
       "      <td>11</td>\n",
       "      <td>11</td>\n",
       "      <td>28</td>\n",
       "      <td>0</td>\n",
       "      <td>11</td>\n",
       "      <td>...</td>\n",
       "      <td>0.0</td>\n",
       "      <td>0.0</td>\n",
       "      <td>0.0</td>\n",
       "      <td>0.0</td>\n",
       "      <td>0.0</td>\n",
       "      <td>0.0</td>\n",
       "      <td>0.0</td>\n",
       "      <td>0.0</td>\n",
       "      <td>0</td>\n",
       "      <td>0</td>\n",
       "    </tr>\n",
       "    <tr>\n",
       "      <th>2</th>\n",
       "      <td>5.2</td>\n",
       "      <td>5.9</td>\n",
       "      <td>35</td>\n",
       "      <td>7</td>\n",
       "      <td>5.2</td>\n",
       "      <td>13</td>\n",
       "      <td>11</td>\n",
       "      <td>29</td>\n",
       "      <td>0</td>\n",
       "      <td>19</td>\n",
       "      <td>...</td>\n",
       "      <td>0.0</td>\n",
       "      <td>0.0</td>\n",
       "      <td>0.0</td>\n",
       "      <td>0.0</td>\n",
       "      <td>0.0</td>\n",
       "      <td>0.0</td>\n",
       "      <td>0.0</td>\n",
       "      <td>0.0</td>\n",
       "      <td>0</td>\n",
       "      <td>0</td>\n",
       "    </tr>\n",
       "    <tr>\n",
       "      <th>3</th>\n",
       "      <td>4.8</td>\n",
       "      <td>5.6</td>\n",
       "      <td>17</td>\n",
       "      <td>4</td>\n",
       "      <td>1.9</td>\n",
       "      <td>7</td>\n",
       "      <td>7</td>\n",
       "      <td>28</td>\n",
       "      <td>4</td>\n",
       "      <td>11</td>\n",
       "      <td>...</td>\n",
       "      <td>0.0</td>\n",
       "      <td>0.0</td>\n",
       "      <td>0.0</td>\n",
       "      <td>0.0</td>\n",
       "      <td>0.0</td>\n",
       "      <td>0.0</td>\n",
       "      <td>0.0</td>\n",
       "      <td>0.0</td>\n",
       "      <td>0</td>\n",
       "      <td>0</td>\n",
       "    </tr>\n",
       "    <tr>\n",
       "      <th>4</th>\n",
       "      <td>5.0</td>\n",
       "      <td>5.7</td>\n",
       "      <td>26</td>\n",
       "      <td>5</td>\n",
       "      <td>3.3</td>\n",
       "      <td>9</td>\n",
       "      <td>8</td>\n",
       "      <td>29</td>\n",
       "      <td>0</td>\n",
       "      <td>10</td>\n",
       "      <td>...</td>\n",
       "      <td>0.0</td>\n",
       "      <td>0.0</td>\n",
       "      <td>0.0</td>\n",
       "      <td>0.0</td>\n",
       "      <td>0.0</td>\n",
       "      <td>0.0</td>\n",
       "      <td>0.0</td>\n",
       "      <td>0.0</td>\n",
       "      <td>0</td>\n",
       "      <td>0</td>\n",
       "    </tr>\n",
       "  </tbody>\n",
       "</table>\n",
       "<p>5 rows × 39 columns</p>\n",
       "</div>"
      ],
      "text/plain": [
       "   PHCACL2  PHH2O  MO  P    K  CA  MG  PHSMP  AL   S  ...  FCU  FMN   FB  \\\n",
       "0      5.0    5.7  28  6  2.9   9   9     34   0  12  ...  0.0  0.0  0.0   \n",
       "1      5.1    5.8  28  4  3.6  11  11     28   0  11  ...  0.0  0.0  0.0   \n",
       "2      5.2    5.9  35  7  5.2  13  11     29   0  19  ...  0.0  0.0  0.0   \n",
       "3      4.8    5.6  17  4  1.9   7   7     28   4  11  ...  0.0  0.0  0.0   \n",
       "4      5.0    5.7  26  5  3.3   9   8     29   0  10  ...  0.0  0.0  0.0   \n",
       "\n",
       "   QT_ARGILA  QT_SILTE  QT_A_TOTAL  QT_A_GROSS  QT_A_FINA  QT_P_MELI  \\\n",
       "0        0.0       0.0         0.0         0.0        0.0          0   \n",
       "1        0.0       0.0         0.0         0.0        0.0          0   \n",
       "2        0.0       0.0         0.0         0.0        0.0          0   \n",
       "3        0.0       0.0         0.0         0.0        0.0          0   \n",
       "4        0.0       0.0         0.0         0.0        0.0          0   \n",
       "\n",
       "   QT_P_REMAN  \n",
       "0           0  \n",
       "1           0  \n",
       "2           0  \n",
       "3           0  \n",
       "4           0  \n",
       "\n",
       "[5 rows x 39 columns]"
      ]
     },
     "execution_count": 148,
     "metadata": {},
     "output_type": "execute_result"
    }
   ],
   "source": [
    "solo_dados.head()"
   ]
  }
 ],
 "metadata": {
  "kernelspec": {
   "display_name": "Python 3",
   "language": "python",
   "name": "python3"
  },
  "language_info": {
   "codemirror_mode": {
    "name": "ipython",
    "version": 3
   },
   "file_extension": ".py",
   "mimetype": "text/x-python",
   "name": "python",
   "nbconvert_exporter": "python",
   "pygments_lexer": "ipython3",
   "version": "3.11.5"
  }
 },
 "nbformat": 4,
 "nbformat_minor": 2
}
